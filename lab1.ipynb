{
 "cells": [
  {
   "cell_type": "code",
   "execution_count": 7,
   "metadata": {},
   "outputs": [],
   "source": [
    "from pyspark.sql import SparkSession\n",
    "from pyspark.sql.functions import avg"
   ]
  },
  {
   "cell_type": "code",
   "execution_count": 8,
   "metadata": {},
   "outputs": [
    {
     "name": "stderr",
     "output_type": "stream",
     "text": [
      "/home/lplab/anaconda3/lib/python3.7/site-packages/pyspark/context.py:317: FutureWarning: Python 3.7 support is deprecated in Spark 3.4.\n",
      "  warnings.warn(\"Python 3.7 support is deprecated in Spark 3.4.\", FutureWarning)\n"
     ]
    }
   ],
   "source": [
    "spark = SparkSession.builder \\\n",
    "    .appName(\"lab1\") \\\n",
    "    .getOrCreate()\n"
   ]
  },
  {
   "cell_type": "code",
   "execution_count": 9,
   "metadata": {},
   "outputs": [
    {
     "name": "stdout",
     "output_type": "stream",
     "text": [
      "original numbers: [1, 2, 3, 4, 5]\n",
      "squared numbers: [1, 4, 9, 16, 25]\n"
     ]
    }
   ],
   "source": [
    "#Q1\n",
    "numbers=[1,2,3,4,5]\n",
    "rdd=spark.sparkContext.parallelize(numbers)\n",
    "\n",
    "def square(x):\n",
    "    return x*x\n",
    "\n",
    "squared_rdd=rdd.map(square)\n",
    "squared_numbers=squared_rdd.collect()\n",
    "\n",
    "print(\"original numbers:\",numbers)\n",
    "print(\"squared numbers:\",squared_numbers)\n",
    "\n"
   ]
  },
  {
   "cell_type": "code",
   "execution_count": 10,
   "metadata": {},
   "outputs": [
    {
     "name": "stdout",
     "output_type": "stream",
     "text": [
      "5\n"
     ]
    }
   ],
   "source": [
    "#Q2\n",
    "numbers=[1,2,3,4,5]\n",
    "rdd=spark.sparkContext.parallelize(numbers)\n",
    "max_value=rdd.max()\n",
    "print(max_value)"
   ]
  },
  {
   "cell_type": "code",
   "execution_count": 11,
   "metadata": {},
   "outputs": [
    {
     "name": "stdout",
     "output_type": "stream",
     "text": [
      "Original numbers: [10, 20, 30, 40, 50]\n",
      "Average value: 30.0\n"
     ]
    }
   ],
   "source": [
    "#Q3Write a PySpark program to find average of N numbers.\n",
    "# Create a DataFrame with a set of numbers \n",
    "numbers = [(10,), (20,), (30,), (40,), (50,)]\n",
    "df = spark.createDataFrame(numbers, [\"number\"])\n",
    "\n",
    "# Compute the average\n",
    "average_df = df.select(avg(\"number\")).collect()[0][0]\n",
    "\n",
    "# Print the results\n",
    "print(\"Original numbers:\", [10, 20, 30, 40, 50])\n",
    "print(\"Average value:\", average_df)\n",
    "\n",
    "\n",
    "\n",
    "\n"
   ]
  },
  {
   "cell_type": "code",
   "execution_count": 12,
   "metadata": {},
   "outputs": [],
   "source": [
    "#Q4Demonstrate how to read a CSV file into a PySpark DataFrame.\n",
    "csv_file_path=\"./data/data.csv\"\n",
    "df=spark.read.csv(csv_file_path,header=True,inferSchema=True)"
   ]
  },
  {
   "cell_type": "code",
   "execution_count": null,
   "metadata": {},
   "outputs": [],
   "source": [
    "#Q5"
   ]
  }
 ],
 "metadata": {
  "kernelspec": {
   "display_name": "Python 3",
   "language": "python",
   "name": "python3"
  },
  "language_info": {
   "codemirror_mode": {
    "name": "ipython",
    "version": 3
   },
   "file_extension": ".py",
   "mimetype": "text/x-python",
   "name": "python",
   "nbconvert_exporter": "python",
   "pygments_lexer": "ipython3",
   "version": "3.7.0"
  }
 },
 "nbformat": 4,
 "nbformat_minor": 2
}

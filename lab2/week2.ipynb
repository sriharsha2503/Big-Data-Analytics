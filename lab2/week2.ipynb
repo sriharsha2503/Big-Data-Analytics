{
 "cells": [
  {
   "cell_type": "code",
   "execution_count": 11,
   "metadata": {},
   "outputs": [
    {
     "name": "stderr",
     "output_type": "stream",
     "text": [
      "/home/lplab/anaconda3/lib/python3.7/site-packages/pyspark/context.py:317: FutureWarning: Python 3.7 support is deprecated in Spark 3.4.\n",
      "  warnings.warn(\"Python 3.7 support is deprecated in Spark 3.4.\", FutureWarning)\n"
     ]
    },
    {
     "name": "stdout",
     "output_type": "stream",
     "text": [
      "Original DataFrame:\n",
      "+---+---------+---+\n",
      "| id|     name|age|\n",
      "+---+---------+---+\n",
      "|  1|    Alice| 30|\n",
      "|  2|      Bob| 25|\n",
      "|  3|Catherine| 29|\n",
      "|  4|    David| 35|\n",
      "+---+---------+---+\n",
      "\n",
      "Transformed DataFrame:\n",
      "+---+---------+---+--------+\n",
      "| id|     name|age|is_adult|\n",
      "+---+---------+---+--------+\n",
      "|  1|    Alice| 30|    true|\n",
      "|  3|Catherine| 29|    true|\n",
      "|  4|    David| 35|    true|\n",
      "+---+---------+---+--------+\n",
      "\n"
     ]
    }
   ],
   "source": [
    "from pyspark.sql import SparkSession\n",
    "from pyspark.sql.functions import col\n",
    "# Initialize Spark session\n",
    "spark = SparkSession.builder \\\n",
    "    .appName(\"PySpark Transformation Example\") \\\n",
    "    .getOrCreate()\n",
    "# Create a sample DataFrame\n",
    "data = [\n",
    "    (1, \"Alice\", 30),\n",
    "    (2, \"Bob\", 25),\n",
    "    (3, \"Catherine\", 29),\n",
    "    (4, \"David\", 35)\n",
    "]\n",
    "columns = [\"id\", \"name\", \"age\"]\n",
    "df = spark.createDataFrame(data, columns)\n",
    "print(\"Original DataFrame:\")\n",
    "df.show()\n",
    "# Apply a filter transformation: keep rows where age is greater than 28\n",
    "filtered_df = df.filter(col(\"age\") > 28)\n",
    "# Apply a withColumn transformation: add a new column 'is_adult' which is True for all\n",
    "transformed_df = filtered_df.withColumn(\"is_adult\", col(\"age\") >= 18)\n",
    "# Show the transformed DataFrame\n",
    "print(\"Transformed DataFrame:\")\n",
    "transformed_df.show()"
   ]
  },
  {
   "cell_type": "code",
   "execution_count": 12,
   "metadata": {},
   "outputs": [
    {
     "name": "stdout",
     "output_type": "stream",
     "text": [
      "DataFrame:\n",
      "+---+---------+---+\n",
      "| id|     name|age|\n",
      "+---+---------+---+\n",
      "|  1|    Alice| 30|\n",
      "|  2|      Bob| 25|\n",
      "|  3|Catherine| 29|\n",
      "|  4|    David| 35|\n",
      "+---+---------+---+\n",
      "\n",
      "\n",
      "Number of rows in the DataFrame: 4\n"
     ]
    }
   ],
   "source": [
    "#q2\n",
    "print(\"DataFrame:\")\n",
    "df.show()\n",
    "# Count the number of rows in the DataFrame\n",
    "row_count = df.count()\n",
    "print(f\"\\nNumber of rows in the DataFrame: {row_count}\")\n"
   ]
  },
  {
   "cell_type": "code",
   "execution_count": 13,
   "metadata": {},
   "outputs": [
    {
     "name": "stdout",
     "output_type": "stream",
     "text": [
      "DataFrame:\n",
      "+---+---------+---+\n",
      "| id|     name|age|\n",
      "+---+---------+---+\n",
      "|  1|    Alice| 30|\n",
      "|  2|      Bob| 25|\n",
      "|  3|Catherine| 29|\n",
      "|  4|    David| 35|\n",
      "+---+---------+---+\n",
      "\n",
      "\n",
      "Sum of ages: 119\n",
      "Average age: 29.75\n"
     ]
    }
   ],
   "source": [
    "#Q3\n",
    "from pyspark.sql.functions import sum as sum_col, avg\n",
    "print(\"DataFrame:\")\n",
    "df.show()\n",
    "# Perform basic aggregations\n",
    "# Calculate the sum of the 'age' column\n",
    "age_sum = df.agg(sum_col(\"age\").alias(\"total_age\")).collect()[0][\"total_age\"]\n",
    "print(f\"\\nSum of ages: {age_sum}\")\n",
    "# Calculate the average of the 'age' column\n",
    "age_avg = df.agg(avg(\"age\").alias(\"average_age\")).collect()[0][\"average_age\"]\n",
    "print(f\"Average age: {age_avg}\")\n",
    "\n"
   ]
  },
  {
   "cell_type": "code",
   "execution_count": 15,
   "metadata": {},
   "outputs": [
    {
     "name": "stdout",
     "output_type": "stream",
     "text": [
      "DataFrame:\n",
      "+---+---------+---+\n",
      "| id|     name|age|\n",
      "+---+---------+---+\n",
      "|  1|    Alice| 30|\n",
      "|  2|      Bob| 25|\n",
      "|  3|Catherine| 29|\n",
      "|  4|    David| 35|\n",
      "+---+---------+---+\n",
      "\n",
      "\n",
      "DataFrame written to CSV file at: path/to/your/directory/data.csv\n"
     ]
    }
   ],
   "source": [
    "#Q4\n",
    "# Show the DataFrame\n",
    "print(\"DataFrame:\")\n",
    "df.show()\n",
    "\n",
    "# Define the path where the CSV file will be saved\n",
    "csv_path = \"path/to/your/directory/data.csv\"\n",
    "\n",
    "# Write the DataFrame to a CSV file\n",
    "df.write \\\n",
    "    .mode(\"overwrite\") \\\n",
    "    .option(\"header\", \"true\") \\\n",
    "    .csv(csv_path)\n",
    "\n",
    "print(f\"\\nDataFrame written to CSV file at: {csv_path}\")\n"
   ]
  },
  {
   "cell_type": "code",
   "execution_count": 18,
   "metadata": {},
   "outputs": [
    {
     "name": "stdout",
     "output_type": "stream",
     "text": [
      "Content of the text file:\n",
      "+-------------------------------------------------------------------------------------------------------------------------------------------------------------------------------------------------------------------------------------------------------------------------------------------------------------------------------------------------------------------------------------------------------------------------------------------------------------------------------------------------------------------------------------------------------------------------------------------------------------------------------------------------------------------------------------------------------------------------------------------------------------------------------------------------------------------------------------------------------------------------+\n",
      "|value                                                                                                                                                                                                                                                                                                                                                                                                                                                                                                                                                                                                                                                                                                                                                                                                                                                                    |\n",
      "+-------------------------------------------------------------------------------------------------------------------------------------------------------------------------------------------------------------------------------------------------------------------------------------------------------------------------------------------------------------------------------------------------------------------------------------------------------------------------------------------------------------------------------------------------------------------------------------------------------------------------------------------------------------------------------------------------------------------------------------------------------------------------------------------------------------------------------------------------------------------------+\n",
      "|The Fédération Internationale de Football Association (lit. 'International Federation of Association Football'), more commonly known by its acronym FIFA (/ˈfiːfə/ FEE-fə), is the international self-regulatory governing body of association football, beach soccer, and futsal. It was founded in 1904[3] to oversee international competition among the national associations of Belgium, Denmark, France, Germany, the Netherlands, Spain (represented by the Madrid Football Club), Sweden, and Switzerland. Headquartered in Zürich, Switzerland, its membership now comprises 211 national associations. These national associations must also be members of one of the six regional confederations: CAF (Africa), AFC (Asia and Australia), UEFA (Europe), CONCACAF (North & Central America and the Caribbean), OFC (Oceania), and CONMEBOL (South America).[4]|\n",
      "|                                                                                                                                                                                                                                                                                                                                                                                                                                                                                                                                                                                                                                                                                                                                                                                                                                                                         |\n",
      "|FIFA outlines several objectives in its organizational statutes, including growing football internationally, ensuring it is accessible to everyone, and advocating for integrity and fair play.[5] It is responsible for organizing and promoting football's major international tournaments, notably the World Cup which began in 1930, and the Women's World Cup which commenced in 1991. Although FIFA does not solely set the laws of the game, that being the responsibility of the International Football Association Board of which FIFA is a member, it applies and enforces the rules across all FIFA competitions.[6] All FIFA tournaments generate revenue from sponsorships; in 2022, FIFA had revenues of over US$5.8 billion, ending the 2019–2022 cycle with a net positive of $1.2 billion, and cash reserves of over $3.9 billion.[7]                   |\n",
      "|                                                                                                                                                                                                                                                                                                                                                                                                                                                                                                                                                                                                                                                                                                                                                                                                                                                                         |\n",
      "|Reports by investigative journalists have linked FIFA leadership with corruption, bribery, and vote-rigging related to the election of FIFA president Sepp Blatter and the organization's decision to award the 2018 and 2022 World Cups to Russia and Qatar, respectively. These allegations led to the indictments of nine high-ranking FIFA officials and five corporate executives by the US Department of Justice on charges including racketeering, wire fraud, and money laundering. On 27 May 2015, several of these officials were arrested by Swiss authorities, who launched a simultaneous but separate criminal investigation into how the organization awarded the 2018 and 2022 World Cups. Those among these officials who were also indicted in the US are expected to be extradited to face charges there as well.[8][9][10]                           |\n",
      "|                                                                                                                                                                                                                                                                                                                                                                                                                                                                                                                                                                                                                                                                                                                                                                                                                                                                         |\n",
      "|Many officials were suspended by FIFA's ethics committee including Sepp Blatter[11] and Michel Platini.[12] In early 2017, reports became public about FIFA president Gianni Infantino attempting to prevent the re-elections[13] of both chairmen of the ethics committee, Cornel Borbély and Hans-Joachim Eckert, during the FIFA congress in May 2017.[14][15] On 9 May 2017, following Infantino's proposal,[16] FIFA Council decided not to renew the mandates of Borbély and Eckert.[16] Together with the chairmen, 11 of 13 committee members were removed. FIFA has been suspected of corruption regarding the Qatar 2022 FIFA World Cup.[17]                                                                                                                                                                                                                   |\n",
      "+-------------------------------------------------------------------------------------------------------------------------------------------------------------------------------------------------------------------------------------------------------------------------------------------------------------------------------------------------------------------------------------------------------------------------------------------------------------------------------------------------------------------------------------------------------------------------------------------------------------------------------------------------------------------------------------------------------------------------------------------------------------------------------------------------------------------------------------------------------------------------+\n",
      "\n",
      "Words DataFrame:\n",
      "+--------------------+\n",
      "|word                |\n",
      "+--------------------+\n",
      "|The                 |\n",
      "|Fédération          |\n",
      "|Internationale      |\n",
      "|de                  |\n",
      "|Football            |\n",
      "|Association         |\n",
      "|(lit. 'International|\n",
      "|Federation          |\n",
      "|of                  |\n",
      "|Association         |\n",
      "|Football'),         |\n",
      "|more                |\n",
      "|commonly            |\n",
      "|known               |\n",
      "|by                  |\n",
      "|its                 |\n",
      "|acronym             |\n",
      "|FIFA                |\n",
      "|(/ˈfiːfə/           |\n",
      "|FEE-fə),            |\n",
      "+--------------------+\n",
      "only showing top 20 rows\n",
      "\n",
      "Word Count:\n"
     ]
    },
    {
     "name": "stdout",
     "output_type": "stream",
     "text": [
      "+--------------------+-----+\n",
      "|word                |count|\n",
      "+--------------------+-----+\n",
      "|positive            |1    |\n",
      "|Russia              |1    |\n",
      "|prevent             |1    |\n",
      "|oversee             |1    |\n",
      "|CONCACAF            |1    |\n",
      "|International       |1    |\n",
      "|(lit. 'International|1    |\n",
      "|among               |2    |\n",
      "|Qatar,              |1    |\n",
      "|World               |5    |\n",
      "|suspended           |1    |\n",
      "|Madrid              |1    |\n",
      "|Cups.               |1    |\n",
      "|play.[5]            |1    |\n",
      "|organizational      |1    |\n",
      "|Federation          |1    |\n",
      "|FIFA's              |1    |\n",
      "|11                  |1    |\n",
      "|(Oceania),          |1    |\n",
      "|set                 |1    |\n",
      "+--------------------+-----+\n",
      "only showing top 20 rows\n",
      "\n",
      "\n",
      "Word count results written to CSV file at: /home/lplab/Desktop/220962019/lab2/week2modify.txt\n"
     ]
    }
   ],
   "source": [
    "from pyspark.sql import SparkSession\n",
    "from pyspark.sql.functions import explode, split, col\n",
    "\n",
    "# Initialize Spark session\n",
    "spark = SparkSession.builder \\\n",
    "    .appName(\"WordCount\") \\\n",
    "    .getOrCreate()\n",
    "\n",
    "# Read the text file into a DataFrame\n",
    "# Note: Replace '/absolute/path/to/your/textfile.txt' with the actual path to your text file\n",
    "text_file_path = '/home/lplab/Desktop/220962019/lab2/week2.txt'\n",
    "df = spark.read.text(text_file_path)\n",
    "\n",
    "# Show the content of the DataFrame\n",
    "print(\"Content of the text file:\")\n",
    "df.show(truncate=False)\n",
    "\n",
    "# Split each line into words\n",
    "words_df = df.select(explode(split(col(\"value\"), \" \")).alias(\"word\"))\n",
    "\n",
    "# Show the words DataFrame\n",
    "print(\"Words DataFrame:\")\n",
    "words_df.show(truncate=False)\n",
    "\n",
    "# Count the occurrences of each word\n",
    "word_count_df = words_df.groupBy(\"word\").count()\n",
    "\n",
    "# Show the word count DataFrame\n",
    "print(\"Word Count:\")\n",
    "word_count_df.show(truncate=False)\n",
    "\n",
    "# Optionally, write the results to a CSV file\n",
    "# Replace '/absolute/path/to/output' with your desired output path\n",
    "output_path = '/home/lplab/Desktop/220962019/lab2/week2modify.txt'\n",
    "word_count_df.write \\\n",
    "    .mode(\"overwrite\") \\\n",
    "    .option(\"header\", \"true\") \\\n",
    "    .csv(output_path)\n",
    "\n",
    "print(f\"\\nWord count results written to CSV file at: {output_path}\")\n",
    "\n",
    "# Stop the Spark session\n",
    "spark.stop()\n",
    "\n"
   ]
  },
  {
   "cell_type": "code",
   "execution_count": null,
   "metadata": {},
   "outputs": [],
   "source": []
  }
 ],
 "metadata": {
  "kernelspec": {
   "display_name": "Python 3",
   "language": "python",
   "name": "python3"
  },
  "language_info": {
   "codemirror_mode": {
    "name": "ipython",
    "version": 3
   },
   "file_extension": ".py",
   "mimetype": "text/x-python",
   "name": "python",
   "nbconvert_exporter": "python",
   "pygments_lexer": "ipython3",
   "version": "3.7.0"
  }
 },
 "nbformat": 4,
 "nbformat_minor": 2
}
